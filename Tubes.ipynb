{
 "cells": [
  {
   "cell_type": "code",
   "execution_count": 25,
   "metadata": {},
   "outputs": [
    {
     "name": "stdout",
     "output_type": "stream",
     "text": [
      "3003.733333333333\n"
     ]
    }
   ],
   "source": [
    "import numpy as np\n",
    "import cv2\n",
    "\n",
    "# open input video\n",
    "cap = cv2.VideoCapture('DubRun.mp4')\n",
    "\n",
    "# Default resolutions of the frame are obtained.The default resolutions are system dependent.\n",
    "# We convert the resolutions from float to integer.\n",
    "frame_width = int(cap.get(3))\n",
    "frame_height = int(cap.get(4))\n",
    "\n",
    "# create video writer object to create output video\n",
    "out = cv2.VideoWriter('fgmask.avi',cv2.VideoWriter_fourcc('M','J','P','G'), 15, (frame_width,frame_height))\n",
    "\n",
    "# create background subtractor\n",
    "fgbg = cv2.createBackgroundSubtractorMOG2(detectShadows=True, history=100)\n",
    "\n",
    "# kernel for morphological operations\n",
    "kernel1 = np.ones((3,3),np.uint8)\n",
    "kernel2 = np.ones((9,9),np.uint8)\n",
    "\n",
    "threshold = frame_width * frame_height / 75\n",
    "print(threshold)\n",
    "\n",
    "while(1):\n",
    "    # read the frame\n",
    "    ret, frame = cap.read()\n",
    "    \n",
    "    if ret is True:\n",
    "\n",
    "        # apply the mask to the blurred frame\n",
    "        fgmask = fgbg.apply(frame)\n",
    "        \n",
    "        # remove shadow\n",
    "        fgmask[fgmask != 255] = 0\n",
    "        \n",
    "        cv2.imshow(\"fg\", fgmask)\n",
    "        \n",
    "        # apply blur to remove noise\n",
    "#         blur = cv2.GaussianBlur(fgmask, (5,5), 0)\n",
    "        \n",
    "#         cv2.imshow(\"blur\", blur)\n",
    "        \n",
    "        # remove small noise\n",
    "        img = cv2.morphologyEx(fgmask, cv2.MORPH_OPEN, kernel1)\n",
    "        img = cv2.morphologyEx(img, cv2.MORPH_OPEN, kernel1)\n",
    "        \n",
    "        \n",
    "        img = cv2.dilate(img,kernel2,iterations = 1)\n",
    "        \n",
    "        ########### COOOL\n",
    "        \n",
    "        \n",
    "        count, img = cv2.connectedComponents(img, connectivity=8)\n",
    "        \n",
    "        unique, count = np.unique(img, return_counts=True)\n",
    "        for i in range(0, len(count)):\n",
    "            if count[i] < threshold:\n",
    "                img[img == unique[i]] = 0\n",
    "                \n",
    "        img[img != 0] = 255\n",
    "        \n",
    "        img = img.astype(np.uint8)\n",
    "        \n",
    "        ############## END COOOL\n",
    "        \n",
    "        cv2.imshow(\"coool\", img)\n",
    "        \n",
    "        colorImg = cv2.cvtColor(img, cv2.COLOR_GRAY2BGR)\n",
    "        out.write(colorImg)\n",
    "            \n",
    "        k = cv2.waitKey(30) & 0xff\n",
    "        if k == 27:\n",
    "            break\n",
    "    else:\n",
    "        break\n",
    "    \n",
    "cap.release()\n",
    "out.release()\n",
    "\n",
    "cv2.destroyAllWindows()"
   ]
  },
  {
   "cell_type": "code",
   "execution_count": 26,
   "metadata": {},
   "outputs": [
    {
     "name": "stdout",
     "output_type": "stream",
     "text": [
      "found\n",
      "found\n",
      "done\n"
     ]
    }
   ],
   "source": [
    "import numpy as np\n",
    "import cv2\n",
    "\n",
    "cap = cv2.VideoCapture('fgmask.avi')\n",
    "\n",
    "# Check if camera opened successfully\n",
    "if (cap.isOpened()== False): \n",
    "    print(\"Error opening video stream or file\")\n",
    "\n",
    "# Default resolutions of the frame are obtained.The default resolutions are system dependent.\n",
    "# We convert the resolutions from float to integer.\n",
    "frame_width = int(cap.get(3))\n",
    "frame_height = int(cap.get(4))\n",
    "\n",
    "out = cv2.VideoWriter('debug.avi',cv2.VideoWriter_fourcc('M','J','P','G'), 15, (frame_width,frame_height))\n",
    "\n",
    "# stores all labelled frames with tube labels\n",
    "volume = []\n",
    "labelList = []\n",
    "# number of labels in volume (aka number of tubes)\n",
    "tubeLabel = 0\n",
    "\n",
    "# count of OpenCV labels in previous frame\n",
    "oldCount = 0\n",
    "\n",
    "imgPrev = np.zeros((frame_width, frame_height),dtype=np.uint8)\n",
    "imgCurr = np.zeros((frame_width, frame_height),dtype=np.uint8)\n",
    "\n",
    "while(cap.isOpened()):\n",
    "        \n",
    "    # read the frame\n",
    "    ret, frame = cap.read()\n",
    "    \n",
    "    \n",
    "    # frame is read properly\n",
    "    if ret is True:\n",
    "        \n",
    "        # fix JPEG compression issues\n",
    "        frame[frame>50] = 255\n",
    "        frame[frame!=255] = 0\n",
    "        \n",
    "        # Find connected components in the current image\n",
    "        count, labels = cv2.connectedComponents(cv2.cvtColor(frame, cv2.COLOR_BGR2GRAY), connectivity=8)\n",
    "        \n",
    "        if count > 1:\n",
    "            \n",
    "            labels = labels.astype(np.uint8)\n",
    "            \n",
    "            label_hue = np.uint8(179*labels/np.max(labels))\n",
    "            blank_ch = 255*np.ones_like(label_hue)\n",
    "            labeled_img = cv2.merge([label_hue, blank_ch, blank_ch])\n",
    "            labeled_img = cv2.cvtColor(labeled_img, cv2.COLOR_HSV2BGR)\n",
    "            labeled_img[label_hue==0] = 0\n",
    "            \n",
    "            cv2.imshow('label', labeled_img)\n",
    "#             out.write(labeled_img)\n",
    "        \n",
    "        # We need to match the components from current frame to component in previous frame\n",
    "        tempLabels = labels.copy()\n",
    "        tempList = []\n",
    "        # iterate through components in current frame\n",
    "        for i in range(1, count):\n",
    "            \n",
    "            # initially, no match is found wrt previous frame\n",
    "            match = 0\n",
    "            \n",
    "            # iterate through components in previous frame\n",
    "            for j in range(1, oldCount):\n",
    "                \n",
    "                imgCurr = labels.copy()\n",
    "                imgCurr[imgCurr!=i] = 0\n",
    "                imgCurr[imgCurr==i] = 255\n",
    "                \n",
    "#                 cv2.imshow(\"curr\", imgCurr)\n",
    "                \n",
    "                imgPrev = volume[-1].copy()\n",
    "                imgPrev[imgPrev!=labelList[-1][j-1]] = 0\n",
    "                imgPrev[imgPrev==labelList[-1][j-1]] = 255\n",
    "                \n",
    "#                 cv2.imshow(\"prev\", imgPrev)\n",
    "                \n",
    "                # multiply masks to find intersections of components\n",
    "                prod = imgPrev * imgCurr\n",
    "                \n",
    "                # product is black if there is no intersection\n",
    "                # sum all the pixels\n",
    "                total = np.sum(prod/255)\n",
    "                if total > 0:\n",
    "                    match = labelList[-1][j-1]\n",
    "                    break\n",
    "                    \n",
    "            # match found for the selected component\n",
    "            if match is not 0:\n",
    "                # renaming selected component with matched component label\n",
    "                tempLabels[tempLabels==i] = labelList[-1][j-1]\n",
    "                tempList.append(labelList[-1][j-1])\n",
    "                \n",
    "            else:\n",
    "                # new component found\n",
    "                print(\"found\")\n",
    "                tubeLabel += 1\n",
    "                tempLabels[tempLabels==i] = tubeLabel\n",
    "                tempList.append(tubeLabel)\n",
    "            \n",
    "        volume.append(tempLabels)\n",
    "        labelList.append(tempList)\n",
    "        oldCount = count\n",
    "        \n",
    "        k = cv2.waitKey(30) & 0xff\n",
    "        if k == 27:\n",
    "            break\n",
    "        \n",
    "    # frame is not read properly\n",
    "    else:\n",
    "        break\n",
    "    \n",
    "\n",
    "cap.release()\n",
    "out.release()\n",
    "cv2.destroyAllWindows()\n",
    "print('done')"
   ]
  },
  {
   "cell_type": "code",
   "execution_count": 28,
   "metadata": {},
   "outputs": [
    {
     "name": "stdout",
     "output_type": "stream",
     "text": [
      "(409, 352, 640)\n"
     ]
    }
   ],
   "source": [
    "print(np.shape(volume))"
   ]
  },
  {
   "cell_type": "code",
   "execution_count": 23,
   "metadata": {
    "collapsed": true
   },
   "outputs": [],
   "source": [
    "x = volume[350]\n",
    "x[x!=0] = 255\n",
    "cv2.imshow('vol', x)\n",
    "cv2.waitKey(0)\n",
    "cv2.destroyAllWindows()"
   ]
  },
  {
   "cell_type": "code",
   "execution_count": 24,
   "metadata": {},
   "outputs": [
    {
     "data": {
      "text/plain": [
       "2"
      ]
     },
     "execution_count": 24,
     "metadata": {},
     "output_type": "execute_result"
    }
   ],
   "source": [
    "tubeLabel"
   ]
  },
  {
   "cell_type": "code",
   "execution_count": 54,
   "metadata": {},
   "outputs": [
    {
     "data": {
      "text/plain": [
       "(array([0, 1, 2, 3, 4], dtype=int32),\n",
       " array([90912531,   905406,   239137,    76566,     5880], dtype=int64))"
      ]
     },
     "execution_count": 54,
     "metadata": {},
     "output_type": "execute_result"
    }
   ],
   "source": [
    "np.unique(volume, return_counts=True)"
   ]
  },
  {
   "cell_type": "code",
   "execution_count": 23,
   "metadata": {
    "collapsed": true
   },
   "outputs": [],
   "source": [
    "for i in range(1, tubeLabel + 1):\n",
    "    \n",
    "    out = cv2.VideoWriter('masked{0}.avi'.format(i),cv2.VideoWriter_fourcc('M','J','P','G'), 15, (frame_width,frame_height))\n",
    "    \n",
    "    for frame in volume:\n",
    "        frameCopy = frame.copy()\n",
    "        frameCopy[frameCopy==i] = 255\n",
    "        frameCopy = frameCopy.astype(np.uint8)\n",
    "        out.write(cv2.cvtColor(frameCopy, cv2.COLOR_GRAY2BGR))\n",
    "\n",
    "    out.release()"
   ]
  },
  {
   "cell_type": "code",
   "execution_count": null,
   "metadata": {
    "collapsed": true
   },
   "outputs": [],
   "source": []
  }
 ],
 "metadata": {
  "kernelspec": {
   "display_name": "Python 3",
   "language": "python",
   "name": "python3"
  },
  "language_info": {
   "codemirror_mode": {
    "name": "ipython",
    "version": 3
   },
   "file_extension": ".py",
   "mimetype": "text/x-python",
   "name": "python",
   "nbconvert_exporter": "python",
   "pygments_lexer": "ipython3",
   "version": "3.6.1"
  }
 },
 "nbformat": 4,
 "nbformat_minor": 2
}
