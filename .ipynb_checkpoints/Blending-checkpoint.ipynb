{
 "cells": [
  {
   "cell_type": "code",
   "execution_count": 29,
   "metadata": {},
   "outputs": [],
   "source": [
    "import cv2\n",
    "import numpy as np"
   ]
  },
  {
   "cell_type": "code",
   "execution_count": 55,
   "metadata": {},
   "outputs": [
    {
     "name": "stdout",
     "output_type": "stream",
     "text": [
      "(1080, 1920)\n"
     ]
    }
   ],
   "source": [
    "bg = cv2.imread('blendBG.png')\n",
    "fg = cv2.imread('blendFG.png')\n",
    "mask = cv2.imread('mask1.png',0)\n",
    "blah = cv2.imread('mask1.png')\n",
    "\n",
    "print(np.shape(mask))\n",
    "\n",
    "width, height, _ = np.shape(bg)\n",
    "\n",
    "# small = cv2.resize(fg, (0,0), fx=0.25, fy=0.25)\n",
    "# smallmask = cv2.resize(mask, (0,0), fx=0.25, fy=0.25)\n",
    "\n",
    "im2, contours, hierarchy = cv2.findContours(mask,cv2.RETR_TREE,cv2.CHAIN_APPROX_NONE)\n",
    "\n",
    "x,y,w,h = cv2.boundingRect(contours[0])\n",
    "\n",
    "x1 = x + w\n",
    "y1 = y + h\n",
    "\n",
    "# if more then 1 contour is found\n",
    "for i in range(1, len(contours)):\n",
    "\n",
    "    # find overall bounding rectangle\n",
    "    x_, y_, w_, h_ = cv2.boundingRect(contours[i])\n",
    "    \n",
    "    # convert from (x,w) to (x,y) system\n",
    "    # new end point\n",
    "    x2 = x_ + w_\n",
    "    y2 = y_ + h_\n",
    "    \n",
    "    #top line\n",
    "    if x_ < x:\n",
    "        x = x_\n",
    "    #left line\n",
    "    if y_ < y:\n",
    "        y = y_\n",
    "    #bottom line\n",
    "    if x2 > x1:\n",
    "        x1 = x2 \n",
    "    #right line\n",
    "    if y2 > y1:\n",
    "        y1 = y2\n",
    "    \n",
    "# print(np.shape(contours))\n",
    "# sumCon = np.concatenate((contours[0], contours[1]))\n",
    "\n",
    "\n",
    "# print(type(contours[0]))\n",
    "# out = cv2.drawContours(blah, sumCon, -1, (0,255,0), 7)\n",
    "\n",
    "# cv2.imshow(\"rect\", blah)\n",
    "# k = cv2.waitKey(0) & 0xff\n",
    "\n",
    "# cv2.rectangle(img,(x,y),(x+w,y+h),(0,255,0),2)\n",
    "\n",
    "w = x1 - x\n",
    "h = y1 - y\n",
    "\n",
    "result = cv2.seamlessClone(fg, bg, mask, (int(x+w/2), int(y+h/2)), cv2.NORMAL_CLONE)\n",
    "\n",
    "# print(np.shape(result))\n",
    "\n",
    "cv2.imshow(\"result\", result)\n",
    "k = cv2.waitKey(0) & 0xff\n",
    "\n",
    "cv2.destroyAllWindows()"
   ]
  },
  {
   "cell_type": "code",
   "execution_count": 4,
   "metadata": {
    "collapsed": true
   },
   "outputs": [],
   "source": [
    "def blend_image(bg, fg, mask):\n",
    "    \"\"\"\n",
    "    Poisson blending of the foreground object into the background image \n",
    "    using seamless clone function of OpenCV\n",
    "\n",
    "    Args:\n",
    "        bg: Colour background image \n",
    "        fg: Colour foreground object with same dimensions aas bg\n",
    "        mask: Greyscale mask of the foreground object\n",
    "\n",
    "    Returns: The blended image\n",
    "    \"\"\"\n",
    "    \n",
    "    # We need to find the center of a rectangle that bounds all the white pixels in the mask.\n",
    "    # The center is passed as a parameter to the seamless blending function to \n",
    "    # position the object in the same position as in the mask.\n",
    "    \n",
    "    width, height, _ = np.shape(bg)\n",
    "    _, contours, hierarchy = cv2.findContours(mask, cv2.RETR_TREE, cv2.CHAIN_APPROX_SIMPLE)\n",
    "    \n",
    "    # find the bounding points of the contour\n",
    "    x,y,w,h = cv2.boundingRect(contours[0])\n",
    "    \n",
    "    # bottom right co-ordinates\n",
    "    x1 = x + w\n",
    "    y1 = y + h\n",
    "\n",
    "    # if more then 1 contour is found, draw a bounding rectangle \n",
    "    # around the entire set of countours\n",
    "    for i in range(1, len(contours)):\n",
    "\n",
    "        # find bounding rectangle\n",
    "        x_, y_, w_, h_ = cv2.boundingRect(contours[i])\n",
    "\n",
    "        # convert from (x,w) to (x,y) system\n",
    "        # new end point\n",
    "        x2 = x_ + w_\n",
    "        y2 = y_ + h_\n",
    "\n",
    "        # update top edge\n",
    "        if x_ < x:\n",
    "            x = x_\n",
    "        # update left edge\n",
    "        if y_ < y:\n",
    "            y = y_\n",
    "        # update bottom edge\n",
    "        if x2 > x1:\n",
    "            x1 = x2 \n",
    "        # update right line\n",
    "        if y2 > y1:\n",
    "            y1 = y2\n",
    "    \n",
    "    # Find the updated width and height using the new bottom-right point\n",
    "    w = x1 - x\n",
    "    h = y1 - y\n",
    "\n",
    "    result = cv2.seamlessClone(fg, bg, mask, (int(x+w/2), int(y+h/2)), cv2.NORMAL_CLONE)\n",
    "    \n",
    "    return result"
   ]
  },
  {
   "cell_type": "code",
   "execution_count": null,
   "metadata": {
    "collapsed": true
   },
   "outputs": [],
   "source": [
    "cv2.cop"
   ]
  }
 ],
 "metadata": {
  "kernelspec": {
   "display_name": "Python 3",
   "language": "python",
   "name": "python3"
  },
  "language_info": {
   "codemirror_mode": {
    "name": "ipython",
    "version": 3
   },
   "file_extension": ".py",
   "mimetype": "text/x-python",
   "name": "python",
   "nbconvert_exporter": "python",
   "pygments_lexer": "ipython3",
   "version": "3.6.1"
  }
 },
 "nbformat": 4,
 "nbformat_minor": 2
}
