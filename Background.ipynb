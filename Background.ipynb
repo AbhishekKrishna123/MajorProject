{
 "cells": [
  {
   "cell_type": "code",
   "execution_count": 2,
   "metadata": {
    "scrolled": true
   },
   "outputs": [],
   "source": [
    "import cv2\n",
    "import numpy as np\n",
    "\n",
    "# open input video\n",
    "cap = cv2.VideoCapture(0)\n",
    "\n",
    "# Default resolutions of the frame are obtained.The default resolutions are system dependent.\n",
    "# We convert the resolutions from float to integer.\n",
    "frame_width = int(cap.get(3))\n",
    "frame_height = int(cap.get(4))\n",
    "\n",
    "bufCap = 37\n",
    "\n",
    "# record the video\n",
    "out1 = cv2.VideoWriter('original.avi',cv2.VideoWriter_fourcc('M','J','P','G'), 10, (frame_width,frame_height))\n",
    "out2 = cv2.VideoWriter('background.avi',cv2.VideoWriter_fourcc('M','J','P','G'), 10, (frame_width,frame_height))\n",
    "\n",
    "buf = np.zeros((bufCap, frame_height, frame_width, 3),np.uint8)\n",
    "bg = np.zeros((frame_height, frame_width, 3),np.uint8)\n",
    "\n",
    "while(1):\n",
    "    # read the frame\n",
    "    ret, frame = cap.read()\n",
    "    \n",
    "    if ret is True:\n",
    "        \n",
    "        # convert to greyscale\n",
    "#         frame = cv2.cvtColor(frame, cv2.COLOR_BGR2GRAY)\n",
    "        \n",
    "        # add frame to buffer\n",
    "        buf[0] = frame\n",
    "        \n",
    "        cv2.imshow('frame0', buf[0])\n",
    "        \n",
    "        # rotate buffer by 1 position to move the latest frame to the end of the buffer\n",
    "        buf = np.roll(buf, 1, axis=0)\n",
    "        \n",
    "        bg = np.median(buf, axis=0, out=bg)\n",
    "        \n",
    "        # write original frame\n",
    "        out1.write(frame)\n",
    "        # write calculated background frame\n",
    "        out2.write(bg)\n",
    "        \n",
    "        cv2.imshow('bg', bg)\n",
    "        \n",
    "        k = cv2.waitKey(30) & 0xff\n",
    "        if k == 27:\n",
    "            break\n",
    "    else:\n",
    "        break\n",
    "    \n",
    "cap.release()\n",
    "out1.release()\n",
    "out2.release()\n",
    "\n",
    "cv2.destroyAllWindows()"
   ]
  },
  {
   "cell_type": "code",
   "execution_count": null,
   "metadata": {
    "collapsed": true
   },
   "outputs": [],
   "source": []
  },
  {
   "cell_type": "code",
   "execution_count": null,
   "metadata": {
    "collapsed": true
   },
   "outputs": [],
   "source": []
  }
 ],
 "metadata": {
  "kernelspec": {
   "display_name": "Python 3",
   "language": "python",
   "name": "python3"
  },
  "language_info": {
   "codemirror_mode": {
    "name": "ipython",
    "version": 3
   },
   "file_extension": ".py",
   "mimetype": "text/x-python",
   "name": "python",
   "nbconvert_exporter": "python",
   "pygments_lexer": "ipython3",
   "version": "3.6.1"
  }
 },
 "nbformat": 4,
 "nbformat_minor": 2
}
